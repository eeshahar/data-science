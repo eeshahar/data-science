{
  "nbformat": 4,
  "nbformat_minor": 0,
  "metadata": {
    "colab": {
      "provenance": [],
      "authorship_tag": "ABX9TyO+kzY6Y+G1Xomy5KctRO4e",
      "include_colab_link": true
    },
    "kernelspec": {
      "name": "python3",
      "display_name": "Python 3"
    },
    "language_info": {
      "name": "python"
    }
  },
  "cells": [
    {
      "cell_type": "markdown",
      "metadata": {
        "id": "view-in-github",
        "colab_type": "text"
      },
      "source": [
        "<a href=\"https://colab.research.google.com/github/eeshahar/data-science/blob/main/EeshHariU2proj.ipynb\" target=\"_parent\"><img src=\"https://colab.research.google.com/assets/colab-badge.svg\" alt=\"Open In Colab\"/></a>"
      ]
    },
    {
      "cell_type": "markdown",
      "source": [
        "**Dropout rate amongst college students ❗**"
      ],
      "metadata": {
        "id": "rNj504jT6ZTg"
      }
    },
    {
      "cell_type": "markdown",
      "source": [
        "**Context:** The purpose of this project is to highlight the amount of students who dropout of secondary school, or college. The data comes from UC Irvine's Machine Learning Repository and the dataset is titled 'Predict Students' Dropout and Academic Success.' The dataset contained over 30 features such as gender and parent's occupation, but I focued on whether a student dropped out or graduated. Initially, the dataset would classify the student as 'enrolled,' 'dropped out,' and 'graduated,' but, enrolled wasn't specific enough so I removed all instances of that. In the end, the data I used was 3931 students.\n",
        "\n",
        "*   Link to dataset: https://archive.ics.uci.edu/dataset/697/predict+students+dropout+and+academic+success\n",
        "\n",
        "\n"
      ],
      "metadata": {
        "id": "kjlnUWODdtQF"
      }
    },
    {
      "cell_type": "code",
      "source": [
        "!pip install preliz\n",
        "#must be installed\n"
      ],
      "metadata": {
        "id": "ha28isqM7Cy2"
      },
      "execution_count": null,
      "outputs": []
    },
    {
      "cell_type": "code",
      "source": [
        "import preliz as pz"
      ],
      "metadata": {
        "id": "PpNZyLPx9oUU"
      },
      "execution_count": null,
      "outputs": []
    },
    {
      "cell_type": "code",
      "source": [
        "import numpy as np\n",
        "import arviz as az\n",
        "import pymc as pm\n",
        "#more necessary libraries that didn't have to be installed"
      ],
      "metadata": {
        "id": "1CvRWimB9rUa"
      },
      "execution_count": null,
      "outputs": []
    },
    {
      "cell_type": "markdown",
      "source": [
        "**Prior:** an initial probability distribution or belief about a parameter, established before new data is observed or collected. It's built from assumptions and helps to make predictions. (so we don't use any data for these models. just guesses)\n",
        "\n",
        "\n",
        "*   Based on how many students I think drop out of college, I'd assume that more kids graduate than don't\n",
        "*   I did mine 50:10, which means that in a group of 60 students, I think that 50 graduate and 10 don't\n",
        "\n",
        "*   I made a mistake in making my prior this strong. It means that I was very confident in my prediction, which ended up being wrong.\n",
        "\n",
        "\n",
        "\n"
      ],
      "metadata": {
        "id": "MG83qaShgWO9"
      }
    },
    {
      "cell_type": "code",
      "source": [
        "\n",
        "#This is my prior with how many people I think have dropped out of college.\n",
        "pz.Beta(alpha=50,beta=10).plot_pdf()\n",
        "#the ratio of people I think graduated to people I think dropped out is 5:1"
      ],
      "metadata": {
        "colab": {
          "base_uri": "https://localhost:8080/",
          "height": 447
        },
        "id": "HJ06HGmz-AGM",
        "outputId": "6a05b23f-8b3c-4efb-8fa3-b6d1dc632136"
      },
      "execution_count": null,
      "outputs": [
        {
          "output_type": "execute_result",
          "data": {
            "text/plain": [
              "<Axes: >"
            ]
          },
          "metadata": {},
          "execution_count": 7
        },
        {
          "output_type": "display_data",
          "data": {
            "text/plain": [
              "<Figure size 640x480 with 1 Axes>"
            ],
            "image/png": "[encoded data removed]"
          },
          "metadata": {}
        }
      ]
    },
    {
      "cell_type": "code",
      "source": [
        "#prior information\n",
        "alpha_old = 50\n",
        "beta_old = 10\n",
        "\n",
        "k = 50 #grads\n",
        "n = 60 #total students\n",
        "\n",
        "analytic_FT = pz.Beta(alpha = alpha_old + k,beta = beta_old + n - k )\n",
        "\n",
        "analytic_FT.mean()"
      ],
      "metadata": {
        "colab": {
          "base_uri": "https://localhost:8080/"
        },
        "id": "YG6sMCJGC_wE",
        "outputId": "93cbbf8d-ed87-4aba-efd9-f27039f72eff"
      },
      "execution_count": null,
      "outputs": [
        {
          "output_type": "execute_result",
          "data": {
            "text/plain": [
              "np.float64(0.8333333333333334)"
            ]
          },
          "metadata": {},
          "execution_count": 17
        }
      ]
    },
    {
      "cell_type": "code",
      "source": [
        "import pymc as pm\n",
        "#Python package for Bayesian statistical modeling"
      ],
      "metadata": {
        "id": "Ks9GzDvyClmF"
      },
      "execution_count": null,
      "outputs": []
    },
    {
      "cell_type": "markdown",
      "source": [
        "**Likelihood:** The likelihood uses data to update it's prior beliefs whereas the prior is initial assumptions before data is involved.\n",
        "\n",
        "\n",
        "*  students who graduated: 2209\n",
        "*  students who didn't graduate (dropout): 1422\n",
        "*   As you can see, its a lot more equal than 50:10\n",
        "\n",
        "\n",
        "\n"
      ],
      "metadata": {
        "id": "XG4fUPMih-n2"
      }
    },
    {
      "cell_type": "code",
      "source": [
        "#the students who successfully graduated\n",
        "FT_makes = np.repeat(1, 2209)\n",
        "\n",
        "#the students who dropped out\n",
        "FT_misses = np.repeat(0, 1422)\n",
        "\n",
        "#combine all students into one array\n",
        "FT_data = np.concatenate( [FT_makes,FT_misses] )\n"
      ],
      "metadata": {
        "id": "feJuhmGCCn7V"
      },
      "execution_count": null,
      "outputs": []
    },
    {
      "cell_type": "code",
      "source": [
        "with pm.Model() as wmby_FT_model:\n",
        "  θ = pm.Beta('θ' , alpha = 2209. , beta = 1422.)\n",
        "\n",
        "  y = pm.Bernoulli('y', p = θ, observed = FT_data)\n",
        "\n",
        "  idata_FT = pm.sample()\n"
      ],
      "metadata": {
        "id": "98wpsKmTGUJH"
      },
      "execution_count": null,
      "outputs": []
    },
    {
      "cell_type": "code",
      "source": [
        "import arviz as az"
      ],
      "metadata": {
        "id": "hzs83mCtHBN2"
      },
      "execution_count": null,
      "outputs": []
    },
    {
      "cell_type": "code",
      "source": [
        "az.plot_posterior(idata_FT)\n"
      ],
      "metadata": {
        "colab": {
          "base_uri": "https://localhost:8080/",
          "height": 475
        },
        "id": "AQRbGQgIHhpW",
        "outputId": "b0770ab4-8c1f-4687-edf0-ed26eddb1058"
      },
      "execution_count": null,
      "outputs": [
        {
          "output_type": "execute_result",
          "data": {
            "text/plain": [
              "<Axes: title={'center': 'θ'}>"
            ]
          },
          "metadata": {},
          "execution_count": 15
        },
        {
          "output_type": "display_data",
          "data": {
            "text/plain": [
              "<Figure size 640x480 with 1 Axes>"
            ],
            "image/png": "[encoded data removed]"
          },
          "metadata": {}
        }
      ]
    },
    {
      "cell_type": "markdown",
      "source": [
        "**Analysis:**\n",
        "\n",
        "\n",
        "*   x-axis: represents all the possible values for the true proportion of students who graduate. 0.0 means 0% of students graduate (everyone drops out), and 1.0 means 100% of students graduate.\n",
        "*   y-axis: the probability of each value on the x-axis. A higher density means that that particular graduation proportion is more likely.\n",
        "\n",
        "This graph shows that only about 64% of students graduated. This is different than my prior, which was 50:10, or 83%, because it's a lot lower than I thought it would be.\n",
        "\n",
        "\n",
        "\n"
      ],
      "metadata": {
        "id": "7fz2auqALr-g"
      }
    },
    {
      "cell_type": "markdown",
      "source": [
        "**Predicting the future:**\n"
      ],
      "metadata": {
        "id": "MTatTX3QleLP"
      }
    },
    {
      "cell_type": "code",
      "source": [
        "FT_data_2324 = np.repeat([1,0], repeats = [292,75])\n"
      ],
      "metadata": {
        "id": "0HhFE2xsldCO"
      },
      "execution_count": null,
      "outputs": []
    },
    {
      "cell_type": "code",
      "source": [
        "with pm.Model() as wmby_FT_2324_model:\n",
        "  #same prior from before\n",
        "  θ = pm.Beta('θ' , alpha = 50. , beta = 10.)\n",
        "\n",
        "  #same likelihood, with our stand in for the binomial distribution\n",
        "  #but with the updated data\n",
        "  y = pm.Bernoulli('y', p = θ, observed = FT_data_2324)\n",
        "\n",
        "  #sample from the posterior, 2000 for a more prcise picture later\n",
        "  idata_FT_2324 = pm.sample(2000)"
      ],
      "metadata": {
        "id": "0E8WtYC9lskv"
      },
      "execution_count": null,
      "outputs": []
    },
    {
      "cell_type": "code",
      "source": [
        "pm.sample_posterior_predictive(idata_FT_2324, model=wmby_FT_2324_model, extend_inferencedata=True)\n"
      ],
      "metadata": {
        "id": "H0dTeCpalu8_"
      },
      "execution_count": null,
      "outputs": []
    },
    {
      "cell_type": "code",
      "source": [
        "stacked_FT_2324 = az.extract(idata_FT_2324, group=\"posterior_predictive\")\n"
      ],
      "metadata": {
        "id": "xT6qavLsl3Et"
      },
      "execution_count": null,
      "outputs": []
    },
    {
      "cell_type": "code",
      "source": [
        "stacked_FT_2324.sel(sample=0).sel(draw=0).y.to_series().values\n"
      ],
      "metadata": {
        "colab": {
          "base_uri": "https://localhost:8080/"
        },
        "id": "ZS6gZH5wl6Au",
        "outputId": "e5adc76d-4da2-4e42-eb9e-dc97f6f84b34"
      },
      "execution_count": null,
      "outputs": [
        {
          "output_type": "execute_result",
          "data": {
            "text/plain": [
              "array([1, 1, 1, 1, 1, 1, 1, 1, 1, 1, 1, 1, 1, 1, 1, 0, 0, 0, 1, 1, 1, 1,\n",
              "       1, 1, 1, 1, 1, 1, 0, 0, 1, 1, 1, 1, 1, 1, 0, 1, 1, 1, 1, 1, 1, 1,\n",
              "       1, 1, 1, 0, 1, 1, 1, 1, 1, 1, 1, 1, 1, 1, 1, 0, 1, 1, 0, 1, 1, 0,\n",
              "       1, 0, 1, 1, 1, 1, 0, 0, 1, 1, 1, 1, 1, 1, 1, 1, 0, 1, 1, 1, 1, 1,\n",
              "       1, 1, 1, 1, 1, 1, 1, 1, 1, 1, 1, 1, 1, 1, 1, 1, 1, 0, 1, 1, 1, 1,\n",
              "       1, 0, 0, 1, 0, 1, 1, 0, 1, 1, 1, 1, 1, 1, 1, 1, 1, 0, 1, 1, 0, 1,\n",
              "       1, 1, 1, 1, 1, 1, 1, 0, 1, 0, 0, 1, 0, 1, 1, 1, 0, 1, 1, 1, 1, 1,\n",
              "       0, 1, 0, 1, 1, 1, 0, 1, 1, 1, 1, 1, 0, 0, 1, 1, 0, 1, 1, 1, 1, 1,\n",
              "       1, 1, 1, 1, 1, 1, 0, 1, 1, 1, 1, 0, 1, 1, 1, 1, 1, 1, 1, 1, 1, 0,\n",
              "       1, 1, 0, 1, 1, 0, 1, 1, 0, 1, 1, 1, 1, 1, 1, 1, 1, 1, 1, 1, 1, 1,\n",
              "       1, 1, 1, 0, 1, 1, 1, 0, 1, 1, 1, 1, 1, 1, 1, 1, 0, 1, 1, 0, 0, 1,\n",
              "       1, 0, 1, 1, 1, 0, 1, 1, 0, 0, 1, 1, 1, 0, 0, 1, 1, 1, 1, 1, 1, 1,\n",
              "       1, 1, 1, 1, 1, 1, 1, 1, 1, 1, 1, 1, 1, 0, 1, 1, 0, 0, 1, 1, 0, 1,\n",
              "       1, 1, 1, 0, 1, 1, 1, 1, 1, 1, 1, 1, 1, 1, 1, 1, 1, 0, 1, 1, 0, 0,\n",
              "       1, 1, 1, 1, 1, 1, 1, 1, 1, 1, 1, 0, 1, 1, 1, 1, 0, 1, 1, 0, 1, 1,\n",
              "       1, 1, 1, 1, 1, 0, 0, 1, 0, 1, 1, 0, 1, 1, 1, 1, 0, 1, 1, 0, 0, 1,\n",
              "       1, 1, 1, 1, 1, 0, 1, 1, 1, 0, 1, 1, 1, 1, 1])"
            ]
          },
          "metadata": {},
          "execution_count": 32
        }
      ]
    },
    {
      "cell_type": "markdown",
      "source": [
        "Each number in the array represents the outcome for one student:\n",
        "\n",
        "*   A value of 1 signifies a student who graduated.\n",
        "\n",
        "*   A value of 0 signifies a student who dropped out.\n",
        "\n",
        "This data is used by the model to update the initial belief (the prior) and determine the final outcome probabilities (the posterior).\n",
        "\n"
      ],
      "metadata": {
        "id": "jYkcYWmlpnXO"
      }
    },
    {
      "cell_type": "markdown",
      "source": [
        "I learned that a lot more kids drop out of college than I thought. Initially, I thought this to be pretty surprising because I thought that if you go out of your way to attend college, then obviously you'd want to be there. Upon more thought, I realized that some people may get to college just to realize that they didn't enjoy it, which balances it out. A lot of the times people have side gigs while they're attending college and when those start to take off college floats to the back of their minds and leads them to dropout."
      ],
      "metadata": {
        "id": "4gOgOiAt16nZ"
      }
    },
    {
      "cell_type": "code",
      "source": [],
      "metadata": {
        "id": "HRRMRnUI22wQ"
      },
      "execution_count": null,
      "outputs": []
    }
  ]
}